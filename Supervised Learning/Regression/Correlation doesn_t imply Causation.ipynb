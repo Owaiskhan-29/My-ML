{
 "cells": [
  {
   "cell_type": "markdown",
   "metadata": {},
   "source": [
    "# Correlation does not imply Causation:\n",
    "\n",
    "    Causation takes a step further than correlation. It says any change in the value of one variable will cause a change in the value of another variable, which means one variable makes other to happen. It is also referred as cause and effect."
   ]
  },
  {
   "cell_type": "markdown",
   "metadata": {},
   "source": [
    "    Generally, if two variables X and Y are correlated, there are at least four possible explanations:\n",
    "    \n",
    "        > X causes Y\n",
    "            Example: Total_bill causes Tip value; That means, One variable is influencing the other.\n",
    "        \n",
    "        > Y causes X\n",
    "            Example: Tip NEVER influences Total_bills (in general). May be two vars Correlated but that doesn't imply causation\n",
    "            Example 2: Windmill speed is affected by Wind speed (Correlated). But we cannot say Wind Speed is affected by Windmill speed (Spurious).\n",
    "            \n",
    "        > X and Y are both caused by a third variable, Z.\n",
    "            Example: Total_bills and Tips are caused by Gender.\n",
    "            \n",
    "        > X and Y are NOT correlated but third variable Z influencing both X and Y variables.\n",
    "            Example: Spending hours may cause stomach ache (stupid) but there is third variable Food may influence both variables.\n",
    "        \n",
    "        > Chance (the correlation is spurious(not real)).\n",
    "            Example: One State revenue is influencing other state revenue. May be they are correlated but thats spurious."
   ]
  },
  {
   "cell_type": "markdown",
   "metadata": {},
   "source": [
    "    Example: Ice cream sales is correlated with homicides in New York (Study)\n",
    "    \n",
    "    As the sales of ice cream rise and fall, so do the number of homicides. Does the consumption of ice cream causing the death of the people?\n",
    "    \n",
    "    No. Two things are correlated doesn’t mean one causes other.\n",
    "    \n",
    "    Correlation does not mean causality or in our example, ice cream is not causing the death of people.\n",
    "        \n",
    "    When 2 unrelated things tied together, so these can be either bound by causality or correlation.\n",
    "    \n",
    "    In Majority of the cases correlation, are just because of the coincidences. Just because it seems like one factor is influencing the other, it doesn’t mean that it’s actually does.\n",
    "    Correlation is something which we think, when we can’t see under the covers. So the less the information we have the more we are forced to observe correlations. Similarly the more information we have the more transparent things will become and the more we will be able to see the actual casual relationships.\n",
    "    \n"
   ]
  },
  {
   "cell_type": "markdown",
   "metadata": {},
   "source": [
    "#### Consider underlying factors before conclusion\n",
    "    In some cases there are some hidden factors which are related on some level. Like in our example of ice cream sales and homicide rates , weather is the hidden factor which is causing both the things.Weather is actually causing the rise in ice cream sales and homicides. As in summer people usually go out, enjoy nice sunny day and chill themselves with ice creams. So when it’s sunny, wide range of people are outside and there is a wider selection of victims for predators.\n",
    "    \n",
    "![](causation.png)\n",
    "\n",
    "    There is no causal relationship between the ice cream and rate of homicide, sunny weather is bringing both the factors together. And yes, ice cream sales and homicide has a causal relationship with weather."
   ]
  },
  {
   "cell_type": "markdown",
   "metadata": {},
   "source": [
    "## Don’t conclude too fast!\n",
    "    \n",
    "    Just after finding correlation, don’t draw the conclusion too quickly. Take time to find other underlying factors as correlation is just the first step. Find the hidden factors, verify if they are correct and then conclude.\n",
    "    \n",
    "    Establishing a causation requires a lot more work than finding a correlation because it is a much stronger statement. This is the problem of inference: Causation can only be inferred, never exactly known."
   ]
  }
 ],
 "metadata": {
  "kernelspec": {
   "display_name": "Python 3",
   "language": "python",
   "name": "python3"
  },
  "language_info": {
   "codemirror_mode": {
    "name": "ipython",
    "version": 3
   },
   "file_extension": ".py",
   "mimetype": "text/x-python",
   "name": "python",
   "nbconvert_exporter": "python",
   "pygments_lexer": "ipython3",
   "version": "3.7.3"
  }
 },
 "nbformat": 4,
 "nbformat_minor": 2
}
