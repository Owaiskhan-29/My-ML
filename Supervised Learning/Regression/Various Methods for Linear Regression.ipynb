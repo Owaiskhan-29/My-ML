{
 "cells": [
  {
   "cell_type": "markdown",
   "metadata": {},
   "source": [
    "### Linear Regression can be achieved through various methods:\n",
    "\n",
    "    This is a very simple example of using two scipy tools for linear regression.\n",
    "    \n",
    "    Scipy.Polyfit\n",
    "    Stats.linregress\n",
    "    Optimize.curve_fit\n",
    "    numpy.linalg.lstsq\n",
    "    statsmodels.OLS\n",
    "    sklearn.linear_model.LinearRegression"
   ]
  },
  {
   "cell_type": "markdown",
   "metadata": {},
   "source": [
    "####  Importing necessary libraries"
   ]
  },
  {
   "cell_type": "code",
   "execution_count": 2,
   "metadata": {},
   "outputs": [],
   "source": [
    "from scipy import linspace, polyval, polyfit, sqrt, stats, randn, optimize\n",
    "import statsmodels.api as sm\n",
    "import matplotlib.pyplot as plt\n",
    "import time\n",
    "import numpy as np\n",
    "from sklearn.linear_model import LinearRegression\n",
    "import pandas as pd\n",
    "import seaborn as sns\n",
    "%matplotlib inline"
   ]
  },
  {
   "cell_type": "code",
   "execution_count": 3,
   "metadata": {},
   "outputs": [],
   "source": [
    "tips = sns.load_dataset(\"tips\")"
   ]
  },
  {
   "cell_type": "code",
   "execution_count": 4,
   "metadata": {
    "scrolled": true
   },
   "outputs": [
    {
     "data": {
      "text/html": [
       "<div>\n",
       "<style scoped>\n",
       "    .dataframe tbody tr th:only-of-type {\n",
       "        vertical-align: middle;\n",
       "    }\n",
       "\n",
       "    .dataframe tbody tr th {\n",
       "        vertical-align: top;\n",
       "    }\n",
       "\n",
       "    .dataframe thead th {\n",
       "        text-align: right;\n",
       "    }\n",
       "</style>\n",
       "<table border=\"1\" class=\"dataframe\">\n",
       "  <thead>\n",
       "    <tr style=\"text-align: right;\">\n",
       "      <th></th>\n",
       "      <th>total_bill</th>\n",
       "      <th>tip</th>\n",
       "      <th>sex</th>\n",
       "      <th>smoker</th>\n",
       "      <th>day</th>\n",
       "      <th>time</th>\n",
       "      <th>size</th>\n",
       "    </tr>\n",
       "  </thead>\n",
       "  <tbody>\n",
       "    <tr>\n",
       "      <th>0</th>\n",
       "      <td>16.99</td>\n",
       "      <td>1.01</td>\n",
       "      <td>Female</td>\n",
       "      <td>No</td>\n",
       "      <td>Sun</td>\n",
       "      <td>Dinner</td>\n",
       "      <td>2</td>\n",
       "    </tr>\n",
       "    <tr>\n",
       "      <th>1</th>\n",
       "      <td>10.34</td>\n",
       "      <td>1.66</td>\n",
       "      <td>Male</td>\n",
       "      <td>No</td>\n",
       "      <td>Sun</td>\n",
       "      <td>Dinner</td>\n",
       "      <td>3</td>\n",
       "    </tr>\n",
       "    <tr>\n",
       "      <th>2</th>\n",
       "      <td>21.01</td>\n",
       "      <td>3.50</td>\n",
       "      <td>Male</td>\n",
       "      <td>No</td>\n",
       "      <td>Sun</td>\n",
       "      <td>Dinner</td>\n",
       "      <td>3</td>\n",
       "    </tr>\n",
       "    <tr>\n",
       "      <th>3</th>\n",
       "      <td>23.68</td>\n",
       "      <td>3.31</td>\n",
       "      <td>Male</td>\n",
       "      <td>No</td>\n",
       "      <td>Sun</td>\n",
       "      <td>Dinner</td>\n",
       "      <td>2</td>\n",
       "    </tr>\n",
       "    <tr>\n",
       "      <th>4</th>\n",
       "      <td>24.59</td>\n",
       "      <td>3.61</td>\n",
       "      <td>Female</td>\n",
       "      <td>No</td>\n",
       "      <td>Sun</td>\n",
       "      <td>Dinner</td>\n",
       "      <td>4</td>\n",
       "    </tr>\n",
       "  </tbody>\n",
       "</table>\n",
       "</div>"
      ],
      "text/plain": [
       "   total_bill   tip     sex smoker  day    time  size\n",
       "0       16.99  1.01  Female     No  Sun  Dinner     2\n",
       "1       10.34  1.66    Male     No  Sun  Dinner     3\n",
       "2       21.01  3.50    Male     No  Sun  Dinner     3\n",
       "3       23.68  3.31    Male     No  Sun  Dinner     2\n",
       "4       24.59  3.61  Female     No  Sun  Dinner     4"
      ]
     },
     "execution_count": 4,
     "metadata": {},
     "output_type": "execute_result"
    }
   ],
   "source": [
    "tips.head()"
   ]
  },
  {
   "cell_type": "markdown",
   "metadata": {},
   "source": [
    "    Draw Scatter plot"
   ]
  },
  {
   "cell_type": "code",
   "execution_count": 10,
   "metadata": {},
   "outputs": [
    {
     "data": {
      "image/png": "[encoded data removed]",
      "text/plain": [
       "<Figure size 432x288 with 1 Axes>"
      ]
     },
     "metadata": {
      "needs_background": "light"
     },
     "output_type": "display_data"
    }
   ],
   "source": [
    "plt.scatter(tips['total_bill'],tips['tip'],c='cadetblue')\n",
    "\n",
    "plt.show()"
   ]
  },
  {
   "cell_type": "markdown",
   "metadata": {},
   "source": [
    "### Method: Scipy.Polyfit\n"
   ]
  },
  {
   "cell_type": "code",
   "execution_count": 24,
   "metadata": {},
   "outputs": [
    {
     "name": "stdout",
     "output_type": "stream",
     "text": [
      "Linear regression using polyfit\n",
      "parameters: slope=0.11 intercept=0.92\n",
      "Time taken: 0.0 seconds\n"
     ]
    }
   ],
   "source": [
    "t1=time.time()\n",
    "(ar,br)=polyfit(tips['total_bill'],tips['tip'], 1)\n",
    "t2=time.time()\n",
    "t_polyfit = float(t2-t1)\n",
    "\n",
    "print('Linear regression using polyfit')\n",
    "print('parameters: slope=%.2f intercept=%.2f' % (ar,br))\n",
    "print(\"Time taken: {} seconds\".format(t_polyfit))"
   ]
  },
  {
   "cell_type": "markdown",
   "metadata": {},
   "source": [
    "### Method: Stats.linregress\n"
   ]
  },
  {
   "cell_type": "code",
   "execution_count": 26,
   "metadata": {},
   "outputs": [
    {
     "name": "stdout",
     "output_type": "stream",
     "text": [
      "Linear regression using stats.linregress\n",
      "slope=0.11 intercept=0.92, std error= 0.007, r^2 coefficient= 0.676\n",
      "Time taken: 0.0 seconds\n"
     ]
    }
   ],
   "source": [
    "#Linear regression using stats.linregress\n",
    "t1=time.time()\n",
    "(slope,intercept,r_value,p_value,stderr)=stats.linregress(tips['total_bill'],tips['tip'])\n",
    "t2=time.time()\n",
    "t_linregress = float(t2-t1)\n",
    "\n",
    "print('Linear regression using stats.linregress')\n",
    "print('slope=%.2f intercept=%.2f, std error= %.3f, r^2 coefficient= %.3f' % (slope,intercept,stderr,r_value))\n",
    "print(\"Time taken: {} seconds\".format(t_linregress))"
   ]
  },
  {
   "cell_type": "markdown",
   "metadata": {},
   "source": [
    "### Method: Optimize.curve_fit\n"
   ]
  },
  {
   "cell_type": "code",
   "execution_count": 27,
   "metadata": {},
   "outputs": [],
   "source": [
    "def flin(t,a,b):\n",
    "    result = a*t+b\n",
    "    return(result)"
   ]
  },
  {
   "cell_type": "code",
   "execution_count": 28,
   "metadata": {},
   "outputs": [
    {
     "name": "stdout",
     "output_type": "stream",
     "text": [
      "Linear regression using optimize.curve_fit\n",
      "parameters: a=0.11 b=0.92\n",
      "Time taken: 0.15623855590820312 seconds\n"
     ]
    }
   ],
   "source": [
    "t1=time.time()\n",
    "p1,_=optimize.curve_fit(flin,xdata=tips['total_bill'],ydata=tips['tip'],method='lm')\n",
    "t2=time.time()\n",
    "t_optimize_curve_fit = float(t2-t1)\n",
    "\n",
    "print('Linear regression using optimize.curve_fit')\n",
    "print('parameters: a=%.2f b=%.2f' % (p1[0],p1[1]))\n",
    "print(\"Time taken: {} seconds\".format(t_optimize_curve_fit))"
   ]
  },
  {
   "cell_type": "markdown",
   "metadata": {},
   "source": [
    "### Method: numpy.linalg.lstsq\n"
   ]
  },
  {
   "cell_type": "code",
   "execution_count": 30,
   "metadata": {},
   "outputs": [
    {
     "name": "stdout",
     "output_type": "stream",
     "text": [
      "Linear regression using numpy.linalg.lstsq\n",
      "parameters: a=0.11 b=0.92, ms error= 1.018\n",
      "Time taken: 0.03125166893005371 seconds\n"
     ]
    },
    {
     "name": "stderr",
     "output_type": "stream",
     "text": [
      "H:\\Anaconda3\\lib\\site-packages\\ipykernel_launcher.py:3: FutureWarning: `rcond` parameter will change to the default of machine precision times ``max(M, N)`` where M and N are the input matrix dimensions.\n",
      "To use the future default and silence this warning we advise to pass `rcond=None`, to keep using the old, explicitly pass `rcond=-1`.\n",
      "  This is separate from the ipykernel package so we can avoid doing imports until\n"
     ]
    }
   ],
   "source": [
    "t1=time.time()\n",
    "A = np.vstack([tips['total_bill'], np.ones(len(tips['total_bill']))]).T\n",
    "result = np.linalg.lstsq(A, tips['tip'])\n",
    "ar,br = result[0]\n",
    "err = np.sqrt(result[1]/len(tips['tip']))\n",
    "t2=time.time()\n",
    "t_linalg_lstsq = float(t2-t1)\n",
    "\n",
    "print('Linear regression using numpy.linalg.lstsq')\n",
    "print('parameters: a=%.2f b=%.2f, ms error= %.3f' % (ar,br,err))\n",
    "print(\"Time taken: {} seconds\".format(t_linalg_lstsq))"
   ]
  },
  {
   "cell_type": "markdown",
   "metadata": {},
   "source": [
    "\n",
    "### Method: Statsmodels.OLS\n"
   ]
  },
  {
   "cell_type": "code",
   "execution_count": 34,
   "metadata": {},
   "outputs": [
    {
     "name": "stdout",
     "output_type": "stream",
     "text": [
      "Linear regression using statsmodels.OLS\n",
      "parameters: a=0.11 b=0.92\n",
      "pvalues\n",
      " const         2.526443e-08\n",
      "total_bill    6.692471e-34\n",
      "dtype: float64\n",
      "tvalues\n",
      " const          5.761236\n",
      "total_bill    14.260355\n",
      "dtype: float64\n",
      "rsquared\n",
      " 0.45661658635167646\n",
      "rsquared_adj\n",
      " 0.4543712003448651\n",
      "Summary: \n",
      "                             OLS Regression Results                            \n",
      "==============================================================================\n",
      "Dep. Variable:                    tip   R-squared:                       0.457\n",
      "Model:                            OLS   Adj. R-squared:                  0.454\n",
      "Method:                 Least Squares   F-statistic:                     203.4\n",
      "Date:                Sat, 30 May 2020   Prob (F-statistic):           6.69e-34\n",
      "Time:                        16:22:48   Log-Likelihood:                -350.54\n",
      "No. Observations:                 244   AIC:                             705.1\n",
      "Df Residuals:                     242   BIC:                             712.1\n",
      "Df Model:                           1                                         \n",
      "Covariance Type:            nonrobust                                         \n",
      "==============================================================================\n",
      "                 coef    std err          t      P>|t|      [0.025      0.975]\n",
      "------------------------------------------------------------------------------\n",
      "const          0.9203      0.160      5.761      0.000       0.606       1.235\n",
      "total_bill     0.1050      0.007     14.260      0.000       0.091       0.120\n",
      "==============================================================================\n",
      "Omnibus:                       20.185   Durbin-Watson:                   2.151\n",
      "Prob(Omnibus):                  0.000   Jarque-Bera (JB):               37.750\n",
      "Skew:                           0.443   Prob(JB):                     6.35e-09\n",
      "Kurtosis:                       4.711   Cond. No.                         53.0\n",
      "==============================================================================\n",
      "\n",
      "Warnings:\n",
      "[1] Standard Errors assume that the covariance matrix of the errors is correctly specified.\n",
      "Time taken: 0.015616893768310547 seconds\n"
     ]
    }
   ],
   "source": [
    "t1=time.time()\n",
    "X = tips['total_bill']\n",
    "y = tips['tip']\n",
    "X = sm.add_constant(X)\n",
    "\n",
    "est = sm.OLS(y, X)\n",
    "est2 = est.fit()\n",
    "ar=est2.params[1]\n",
    "br=est2.params[0]\n",
    "t2=time.time()\n",
    "t_OLS = float(t2-t1)\n",
    "\n",
    "print('Linear regression using statsmodels.OLS')\n",
    "print('parameters: a=%.2f b=%.2f'% (ar,br))\n",
    "print(\"pvalues\\n\",est2.pvalues)\n",
    "print(\"tvalues\\n\",est2.tvalues)\n",
    "print(\"rsquared\\n\",est2.rsquared)\n",
    "print(\"rsquared_adj\\n\",est2.rsquared_adj)\n",
    "print (\"Summary: \\n\", est2.summary())\n",
    "print(\"Time taken: {} seconds\".format(t_OLS))"
   ]
  },
  {
   "cell_type": "markdown",
   "metadata": {},
   "source": [
    "### Method: sklearn.linear_model.LinearRegression"
   ]
  },
  {
   "cell_type": "code",
   "execution_count": 57,
   "metadata": {},
   "outputs": [
    {
     "name": "stdout",
     "output_type": "stream",
     "text": [
      "Linear regression using sklearn.linear_model.LinearRegression\n",
      "parameters: a=0.11 b=0.92\n",
      "Time taken: 0.0 seconds\n"
     ]
    }
   ],
   "source": [
    "t1=time.time()\n",
    "lm = LinearRegression()\n",
    "lm.fit(X = tips['total_bill'].values.reshape(-1,1),y = tips['tip'])\n",
    "ar=lm.coef_[0]\n",
    "br=lm.intercept_\n",
    "t2=time.time()\n",
    "t_sklearn_linear = float(t2-t1)\n",
    "\n",
    "print('Linear regression using sklearn.linear_model.LinearRegression')\n",
    "print('parameters: a=%.2f b=%.2f'% (ar,br))\n",
    "print(\"Time taken: {} seconds\".format(t_sklearn_linear))"
   ]
  }
 ],
 "metadata": {
  "kernelspec": {
   "display_name": "Python 3",
   "language": "python",
   "name": "python3"
  },
  "language_info": {
   "codemirror_mode": {
    "name": "ipython",
    "version": 3
   },
   "file_extension": ".py",
   "mimetype": "text/x-python",
   "name": "python",
   "nbconvert_exporter": "python",
   "pygments_lexer": "ipython3",
   "version": "3.8.3"
  }
 },
 "nbformat": 4,
 "nbformat_minor": 2
}
