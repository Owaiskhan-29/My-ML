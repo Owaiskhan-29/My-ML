{
 "cells": [
  {
   "cell_type": "code",
   "execution_count": 1,
   "id": "13de1da2",
   "metadata": {},
   "outputs": [],
   "source": [
    "import pandas as pd\n",
    "import numpy as np\n",
    "df = pd.read_csv('loan_data.csv')"
   ]
  },
  {
   "cell_type": "code",
   "execution_count": 3,
   "id": "08b388b0",
   "metadata": {},
   "outputs": [
    {
     "data": {
      "text/html": [
       "<div>\n",
       "<style scoped>\n",
       "    .dataframe tbody tr th:only-of-type {\n",
       "        vertical-align: middle;\n",
       "    }\n",
       "\n",
       "    .dataframe tbody tr th {\n",
       "        vertical-align: top;\n",
       "    }\n",
       "\n",
       "    .dataframe thead th {\n",
       "        text-align: right;\n",
       "    }\n",
       "</style>\n",
       "<table border=\"1\" class=\"dataframe\">\n",
       "  <thead>\n",
       "    <tr style=\"text-align: right;\">\n",
       "      <th></th>\n",
       "      <th>Unnamed: 0</th>\n",
       "      <th>credit.policy</th>\n",
       "      <th>purpose</th>\n",
       "      <th>int.rate</th>\n",
       "      <th>installment</th>\n",
       "      <th>log.annual.inc</th>\n",
       "      <th>dti</th>\n",
       "      <th>fico</th>\n",
       "      <th>days.with.cr.line</th>\n",
       "      <th>revol.bal</th>\n",
       "      <th>revol.util</th>\n",
       "      <th>inq.last.6mths</th>\n",
       "      <th>delinq.2yrs</th>\n",
       "      <th>pub.rec</th>\n",
       "      <th>not.fully.paid</th>\n",
       "    </tr>\n",
       "  </thead>\n",
       "  <tbody>\n",
       "    <tr>\n",
       "      <th>0</th>\n",
       "      <td>0</td>\n",
       "      <td>1</td>\n",
       "      <td>debt_consolidation</td>\n",
       "      <td>0.1189</td>\n",
       "      <td>829.10</td>\n",
       "      <td>11.350407</td>\n",
       "      <td>19.48</td>\n",
       "      <td>737</td>\n",
       "      <td>5639.958333</td>\n",
       "      <td>28854</td>\n",
       "      <td>52.1</td>\n",
       "      <td>0</td>\n",
       "      <td>0</td>\n",
       "      <td>0</td>\n",
       "      <td>0</td>\n",
       "    </tr>\n",
       "    <tr>\n",
       "      <th>1</th>\n",
       "      <td>1</td>\n",
       "      <td>1</td>\n",
       "      <td>credit_card</td>\n",
       "      <td>0.1071</td>\n",
       "      <td>228.22</td>\n",
       "      <td>11.082143</td>\n",
       "      <td>14.29</td>\n",
       "      <td>707</td>\n",
       "      <td>2760.000000</td>\n",
       "      <td>33623</td>\n",
       "      <td>76.7</td>\n",
       "      <td>0</td>\n",
       "      <td>0</td>\n",
       "      <td>0</td>\n",
       "      <td>0</td>\n",
       "    </tr>\n",
       "    <tr>\n",
       "      <th>2</th>\n",
       "      <td>2</td>\n",
       "      <td>1</td>\n",
       "      <td>debt_consolidation</td>\n",
       "      <td>0.1357</td>\n",
       "      <td>366.86</td>\n",
       "      <td>10.373491</td>\n",
       "      <td>11.63</td>\n",
       "      <td>682</td>\n",
       "      <td>4710.000000</td>\n",
       "      <td>3511</td>\n",
       "      <td>25.6</td>\n",
       "      <td>1</td>\n",
       "      <td>0</td>\n",
       "      <td>0</td>\n",
       "      <td>0</td>\n",
       "    </tr>\n",
       "    <tr>\n",
       "      <th>3</th>\n",
       "      <td>3</td>\n",
       "      <td>1</td>\n",
       "      <td>debt_consolidation</td>\n",
       "      <td>0.1008</td>\n",
       "      <td>162.34</td>\n",
       "      <td>11.350407</td>\n",
       "      <td>8.10</td>\n",
       "      <td>712</td>\n",
       "      <td>2699.958333</td>\n",
       "      <td>33667</td>\n",
       "      <td>73.2</td>\n",
       "      <td>1</td>\n",
       "      <td>0</td>\n",
       "      <td>0</td>\n",
       "      <td>0</td>\n",
       "    </tr>\n",
       "    <tr>\n",
       "      <th>4</th>\n",
       "      <td>4</td>\n",
       "      <td>1</td>\n",
       "      <td>credit_card</td>\n",
       "      <td>0.1426</td>\n",
       "      <td>102.92</td>\n",
       "      <td>11.299732</td>\n",
       "      <td>14.97</td>\n",
       "      <td>667</td>\n",
       "      <td>4066.000000</td>\n",
       "      <td>4740</td>\n",
       "      <td>39.5</td>\n",
       "      <td>0</td>\n",
       "      <td>1</td>\n",
       "      <td>0</td>\n",
       "      <td>0</td>\n",
       "    </tr>\n",
       "  </tbody>\n",
       "</table>\n",
       "</div>"
      ],
      "text/plain": [
       "   Unnamed: 0  credit.policy             purpose  int.rate  installment  \\\n",
       "0           0              1  debt_consolidation    0.1189       829.10   \n",
       "1           1              1         credit_card    0.1071       228.22   \n",
       "2           2              1  debt_consolidation    0.1357       366.86   \n",
       "3           3              1  debt_consolidation    0.1008       162.34   \n",
       "4           4              1         credit_card    0.1426       102.92   \n",
       "\n",
       "   log.annual.inc    dti  fico  days.with.cr.line  revol.bal  revol.util  \\\n",
       "0       11.350407  19.48   737        5639.958333      28854        52.1   \n",
       "1       11.082143  14.29   707        2760.000000      33623        76.7   \n",
       "2       10.373491  11.63   682        4710.000000       3511        25.6   \n",
       "3       11.350407   8.10   712        2699.958333      33667        73.2   \n",
       "4       11.299732  14.97   667        4066.000000       4740        39.5   \n",
       "\n",
       "   inq.last.6mths  delinq.2yrs  pub.rec  not.fully.paid  \n",
       "0               0            0        0               0  \n",
       "1               0            0        0               0  \n",
       "2               1            0        0               0  \n",
       "3               1            0        0               0  \n",
       "4               0            1        0               0  "
      ]
     },
     "execution_count": 3,
     "metadata": {},
     "output_type": "execute_result"
    }
   ],
   "source": [
    "df.head()"
   ]
  },
  {
   "cell_type": "code",
   "execution_count": 37,
   "id": "404883d1",
   "metadata": {},
   "outputs": [
    {
     "data": {
      "text/html": [
       "<div>\n",
       "<style scoped>\n",
       "    .dataframe tbody tr th:only-of-type {\n",
       "        vertical-align: middle;\n",
       "    }\n",
       "\n",
       "    .dataframe tbody tr th {\n",
       "        vertical-align: top;\n",
       "    }\n",
       "\n",
       "    .dataframe thead th {\n",
       "        text-align: right;\n",
       "    }\n",
       "</style>\n",
       "<table border=\"1\" class=\"dataframe\">\n",
       "  <thead>\n",
       "    <tr style=\"text-align: right;\">\n",
       "      <th></th>\n",
       "      <th>Unnamed: 0</th>\n",
       "      <th>credit.policy</th>\n",
       "      <th>int.rate</th>\n",
       "      <th>installment</th>\n",
       "      <th>log.annual.inc</th>\n",
       "      <th>dti</th>\n",
       "      <th>fico</th>\n",
       "      <th>days.with.cr.line</th>\n",
       "      <th>revol.bal</th>\n",
       "      <th>revol.util</th>\n",
       "      <th>inq.last.6mths</th>\n",
       "      <th>delinq.2yrs</th>\n",
       "      <th>pub.rec</th>\n",
       "      <th>not.fully.paid</th>\n",
       "    </tr>\n",
       "  </thead>\n",
       "  <tbody>\n",
       "    <tr>\n",
       "      <th>Unnamed: 0</th>\n",
       "      <td>1.000000</td>\n",
       "      <td>-0.686280</td>\n",
       "      <td>0.282741</td>\n",
       "      <td>0.053794</td>\n",
       "      <td>0.010798</td>\n",
       "      <td>0.093354</td>\n",
       "      <td>-0.186934</td>\n",
       "      <td>-0.028202</td>\n",
       "      <td>0.135857</td>\n",
       "      <td>0.088417</td>\n",
       "      <td>0.357693</td>\n",
       "      <td>0.021025</td>\n",
       "      <td>0.018258</td>\n",
       "      <td>0.081646</td>\n",
       "    </tr>\n",
       "    <tr>\n",
       "      <th>credit.policy</th>\n",
       "      <td>-0.686280</td>\n",
       "      <td>1.000000</td>\n",
       "      <td>-0.294089</td>\n",
       "      <td>0.058770</td>\n",
       "      <td>0.034906</td>\n",
       "      <td>-0.090901</td>\n",
       "      <td>0.348319</td>\n",
       "      <td>0.099026</td>\n",
       "      <td>-0.187518</td>\n",
       "      <td>-0.104095</td>\n",
       "      <td>-0.535511</td>\n",
       "      <td>-0.076318</td>\n",
       "      <td>-0.054243</td>\n",
       "      <td>-0.158119</td>\n",
       "    </tr>\n",
       "    <tr>\n",
       "      <th>int.rate</th>\n",
       "      <td>0.282741</td>\n",
       "      <td>-0.294089</td>\n",
       "      <td>1.000000</td>\n",
       "      <td>0.276140</td>\n",
       "      <td>0.056383</td>\n",
       "      <td>0.220006</td>\n",
       "      <td>-0.714821</td>\n",
       "      <td>-0.124022</td>\n",
       "      <td>0.092527</td>\n",
       "      <td>0.464837</td>\n",
       "      <td>0.202780</td>\n",
       "      <td>0.156079</td>\n",
       "      <td>0.098162</td>\n",
       "      <td>0.159552</td>\n",
       "    </tr>\n",
       "    <tr>\n",
       "      <th>installment</th>\n",
       "      <td>0.053794</td>\n",
       "      <td>0.058770</td>\n",
       "      <td>0.276140</td>\n",
       "      <td>1.000000</td>\n",
       "      <td>0.448102</td>\n",
       "      <td>0.050202</td>\n",
       "      <td>0.086039</td>\n",
       "      <td>0.183297</td>\n",
       "      <td>0.233625</td>\n",
       "      <td>0.081356</td>\n",
       "      <td>-0.010419</td>\n",
       "      <td>-0.004368</td>\n",
       "      <td>-0.032760</td>\n",
       "      <td>0.049955</td>\n",
       "    </tr>\n",
       "    <tr>\n",
       "      <th>log.annual.inc</th>\n",
       "      <td>0.010798</td>\n",
       "      <td>0.034906</td>\n",
       "      <td>0.056383</td>\n",
       "      <td>0.448102</td>\n",
       "      <td>1.000000</td>\n",
       "      <td>-0.054065</td>\n",
       "      <td>0.114576</td>\n",
       "      <td>0.336896</td>\n",
       "      <td>0.372140</td>\n",
       "      <td>0.054881</td>\n",
       "      <td>0.029171</td>\n",
       "      <td>0.029203</td>\n",
       "      <td>0.016506</td>\n",
       "      <td>-0.033439</td>\n",
       "    </tr>\n",
       "    <tr>\n",
       "      <th>dti</th>\n",
       "      <td>0.093354</td>\n",
       "      <td>-0.090901</td>\n",
       "      <td>0.220006</td>\n",
       "      <td>0.050202</td>\n",
       "      <td>-0.054065</td>\n",
       "      <td>1.000000</td>\n",
       "      <td>-0.241191</td>\n",
       "      <td>0.060101</td>\n",
       "      <td>0.188748</td>\n",
       "      <td>0.337109</td>\n",
       "      <td>0.029189</td>\n",
       "      <td>-0.021792</td>\n",
       "      <td>0.006209</td>\n",
       "      <td>0.037362</td>\n",
       "    </tr>\n",
       "    <tr>\n",
       "      <th>fico</th>\n",
       "      <td>-0.186934</td>\n",
       "      <td>0.348319</td>\n",
       "      <td>-0.714821</td>\n",
       "      <td>0.086039</td>\n",
       "      <td>0.114576</td>\n",
       "      <td>-0.241191</td>\n",
       "      <td>1.000000</td>\n",
       "      <td>0.263880</td>\n",
       "      <td>-0.015553</td>\n",
       "      <td>-0.541289</td>\n",
       "      <td>-0.185293</td>\n",
       "      <td>-0.216340</td>\n",
       "      <td>-0.147592</td>\n",
       "      <td>-0.149666</td>\n",
       "    </tr>\n",
       "    <tr>\n",
       "      <th>days.with.cr.line</th>\n",
       "      <td>-0.028202</td>\n",
       "      <td>0.099026</td>\n",
       "      <td>-0.124022</td>\n",
       "      <td>0.183297</td>\n",
       "      <td>0.336896</td>\n",
       "      <td>0.060101</td>\n",
       "      <td>0.263880</td>\n",
       "      <td>1.000000</td>\n",
       "      <td>0.229344</td>\n",
       "      <td>-0.024239</td>\n",
       "      <td>-0.041736</td>\n",
       "      <td>0.081374</td>\n",
       "      <td>0.071826</td>\n",
       "      <td>-0.029237</td>\n",
       "    </tr>\n",
       "    <tr>\n",
       "      <th>revol.bal</th>\n",
       "      <td>0.135857</td>\n",
       "      <td>-0.187518</td>\n",
       "      <td>0.092527</td>\n",
       "      <td>0.233625</td>\n",
       "      <td>0.372140</td>\n",
       "      <td>0.188748</td>\n",
       "      <td>-0.015553</td>\n",
       "      <td>0.229344</td>\n",
       "      <td>1.000000</td>\n",
       "      <td>0.203779</td>\n",
       "      <td>0.022394</td>\n",
       "      <td>-0.033243</td>\n",
       "      <td>-0.031010</td>\n",
       "      <td>0.053699</td>\n",
       "    </tr>\n",
       "    <tr>\n",
       "      <th>revol.util</th>\n",
       "      <td>0.088417</td>\n",
       "      <td>-0.104095</td>\n",
       "      <td>0.464837</td>\n",
       "      <td>0.081356</td>\n",
       "      <td>0.054881</td>\n",
       "      <td>0.337109</td>\n",
       "      <td>-0.541289</td>\n",
       "      <td>-0.024239</td>\n",
       "      <td>0.203779</td>\n",
       "      <td>1.000000</td>\n",
       "      <td>-0.013880</td>\n",
       "      <td>-0.042740</td>\n",
       "      <td>0.066717</td>\n",
       "      <td>0.082088</td>\n",
       "    </tr>\n",
       "    <tr>\n",
       "      <th>inq.last.6mths</th>\n",
       "      <td>0.357693</td>\n",
       "      <td>-0.535511</td>\n",
       "      <td>0.202780</td>\n",
       "      <td>-0.010419</td>\n",
       "      <td>0.029171</td>\n",
       "      <td>0.029189</td>\n",
       "      <td>-0.185293</td>\n",
       "      <td>-0.041736</td>\n",
       "      <td>0.022394</td>\n",
       "      <td>-0.013880</td>\n",
       "      <td>1.000000</td>\n",
       "      <td>0.021245</td>\n",
       "      <td>0.072673</td>\n",
       "      <td>0.149452</td>\n",
       "    </tr>\n",
       "    <tr>\n",
       "      <th>delinq.2yrs</th>\n",
       "      <td>0.021025</td>\n",
       "      <td>-0.076318</td>\n",
       "      <td>0.156079</td>\n",
       "      <td>-0.004368</td>\n",
       "      <td>0.029203</td>\n",
       "      <td>-0.021792</td>\n",
       "      <td>-0.216340</td>\n",
       "      <td>0.081374</td>\n",
       "      <td>-0.033243</td>\n",
       "      <td>-0.042740</td>\n",
       "      <td>0.021245</td>\n",
       "      <td>1.000000</td>\n",
       "      <td>0.009184</td>\n",
       "      <td>0.008881</td>\n",
       "    </tr>\n",
       "    <tr>\n",
       "      <th>pub.rec</th>\n",
       "      <td>0.018258</td>\n",
       "      <td>-0.054243</td>\n",
       "      <td>0.098162</td>\n",
       "      <td>-0.032760</td>\n",
       "      <td>0.016506</td>\n",
       "      <td>0.006209</td>\n",
       "      <td>-0.147592</td>\n",
       "      <td>0.071826</td>\n",
       "      <td>-0.031010</td>\n",
       "      <td>0.066717</td>\n",
       "      <td>0.072673</td>\n",
       "      <td>0.009184</td>\n",
       "      <td>1.000000</td>\n",
       "      <td>0.048634</td>\n",
       "    </tr>\n",
       "    <tr>\n",
       "      <th>not.fully.paid</th>\n",
       "      <td>0.081646</td>\n",
       "      <td>-0.158119</td>\n",
       "      <td>0.159552</td>\n",
       "      <td>0.049955</td>\n",
       "      <td>-0.033439</td>\n",
       "      <td>0.037362</td>\n",
       "      <td>-0.149666</td>\n",
       "      <td>-0.029237</td>\n",
       "      <td>0.053699</td>\n",
       "      <td>0.082088</td>\n",
       "      <td>0.149452</td>\n",
       "      <td>0.008881</td>\n",
       "      <td>0.048634</td>\n",
       "      <td>1.000000</td>\n",
       "    </tr>\n",
       "  </tbody>\n",
       "</table>\n",
       "</div>"
      ],
      "text/plain": [
       "                   Unnamed: 0  credit.policy  int.rate  installment  \\\n",
       "Unnamed: 0           1.000000      -0.686280  0.282741     0.053794   \n",
       "credit.policy       -0.686280       1.000000 -0.294089     0.058770   \n",
       "int.rate             0.282741      -0.294089  1.000000     0.276140   \n",
       "installment          0.053794       0.058770  0.276140     1.000000   \n",
       "log.annual.inc       0.010798       0.034906  0.056383     0.448102   \n",
       "dti                  0.093354      -0.090901  0.220006     0.050202   \n",
       "fico                -0.186934       0.348319 -0.714821     0.086039   \n",
       "days.with.cr.line   -0.028202       0.099026 -0.124022     0.183297   \n",
       "revol.bal            0.135857      -0.187518  0.092527     0.233625   \n",
       "revol.util           0.088417      -0.104095  0.464837     0.081356   \n",
       "inq.last.6mths       0.357693      -0.535511  0.202780    -0.010419   \n",
       "delinq.2yrs          0.021025      -0.076318  0.156079    -0.004368   \n",
       "pub.rec              0.018258      -0.054243  0.098162    -0.032760   \n",
       "not.fully.paid       0.081646      -0.158119  0.159552     0.049955   \n",
       "\n",
       "                   log.annual.inc       dti      fico  days.with.cr.line  \\\n",
       "Unnamed: 0               0.010798  0.093354 -0.186934          -0.028202   \n",
       "credit.policy            0.034906 -0.090901  0.348319           0.099026   \n",
       "int.rate                 0.056383  0.220006 -0.714821          -0.124022   \n",
       "installment              0.448102  0.050202  0.086039           0.183297   \n",
       "log.annual.inc           1.000000 -0.054065  0.114576           0.336896   \n",
       "dti                     -0.054065  1.000000 -0.241191           0.060101   \n",
       "fico                     0.114576 -0.241191  1.000000           0.263880   \n",
       "days.with.cr.line        0.336896  0.060101  0.263880           1.000000   \n",
       "revol.bal                0.372140  0.188748 -0.015553           0.229344   \n",
       "revol.util               0.054881  0.337109 -0.541289          -0.024239   \n",
       "inq.last.6mths           0.029171  0.029189 -0.185293          -0.041736   \n",
       "delinq.2yrs              0.029203 -0.021792 -0.216340           0.081374   \n",
       "pub.rec                  0.016506  0.006209 -0.147592           0.071826   \n",
       "not.fully.paid          -0.033439  0.037362 -0.149666          -0.029237   \n",
       "\n",
       "                   revol.bal  revol.util  inq.last.6mths  delinq.2yrs  \\\n",
       "Unnamed: 0          0.135857    0.088417        0.357693     0.021025   \n",
       "credit.policy      -0.187518   -0.104095       -0.535511    -0.076318   \n",
       "int.rate            0.092527    0.464837        0.202780     0.156079   \n",
       "installment         0.233625    0.081356       -0.010419    -0.004368   \n",
       "log.annual.inc      0.372140    0.054881        0.029171     0.029203   \n",
       "dti                 0.188748    0.337109        0.029189    -0.021792   \n",
       "fico               -0.015553   -0.541289       -0.185293    -0.216340   \n",
       "days.with.cr.line   0.229344   -0.024239       -0.041736     0.081374   \n",
       "revol.bal           1.000000    0.203779        0.022394    -0.033243   \n",
       "revol.util          0.203779    1.000000       -0.013880    -0.042740   \n",
       "inq.last.6mths      0.022394   -0.013880        1.000000     0.021245   \n",
       "delinq.2yrs        -0.033243   -0.042740        0.021245     1.000000   \n",
       "pub.rec            -0.031010    0.066717        0.072673     0.009184   \n",
       "not.fully.paid      0.053699    0.082088        0.149452     0.008881   \n",
       "\n",
       "                    pub.rec  not.fully.paid  \n",
       "Unnamed: 0         0.018258        0.081646  \n",
       "credit.policy     -0.054243       -0.158119  \n",
       "int.rate           0.098162        0.159552  \n",
       "installment       -0.032760        0.049955  \n",
       "log.annual.inc     0.016506       -0.033439  \n",
       "dti                0.006209        0.037362  \n",
       "fico              -0.147592       -0.149666  \n",
       "days.with.cr.line  0.071826       -0.029237  \n",
       "revol.bal         -0.031010        0.053699  \n",
       "revol.util         0.066717        0.082088  \n",
       "inq.last.6mths     0.072673        0.149452  \n",
       "delinq.2yrs        0.009184        0.008881  \n",
       "pub.rec            1.000000        0.048634  \n",
       "not.fully.paid     0.048634        1.000000  "
      ]
     },
     "execution_count": 37,
     "metadata": {},
     "output_type": "execute_result"
    }
   ],
   "source": [
    "df.corr()"
   ]
  },
  {
   "cell_type": "code",
   "execution_count": 31,
   "id": "df35bb94",
   "metadata": {},
   "outputs": [
    {
     "data": {
      "text/plain": [
       "''"
      ]
     },
     "execution_count": 31,
     "metadata": {},
     "output_type": "execute_result"
    }
   ],
   "source": [
    "df_final = pd.get_dummies(df,drop_first=True)\n",
    "\"\"\"\"\"\""
   ]
  },
  {
   "cell_type": "code",
   "execution_count": 6,
   "id": "82ed4fb3",
   "metadata": {},
   "outputs": [
    {
     "data": {
      "text/html": [
       "<div>\n",
       "<style scoped>\n",
       "    .dataframe tbody tr th:only-of-type {\n",
       "        vertical-align: middle;\n",
       "    }\n",
       "\n",
       "    .dataframe tbody tr th {\n",
       "        vertical-align: top;\n",
       "    }\n",
       "\n",
       "    .dataframe thead th {\n",
       "        text-align: right;\n",
       "    }\n",
       "</style>\n",
       "<table border=\"1\" class=\"dataframe\">\n",
       "  <thead>\n",
       "    <tr style=\"text-align: right;\">\n",
       "      <th></th>\n",
       "      <th>Unnamed: 0</th>\n",
       "      <th>credit.policy</th>\n",
       "      <th>int.rate</th>\n",
       "      <th>installment</th>\n",
       "      <th>log.annual.inc</th>\n",
       "      <th>dti</th>\n",
       "      <th>fico</th>\n",
       "      <th>days.with.cr.line</th>\n",
       "      <th>revol.bal</th>\n",
       "      <th>revol.util</th>\n",
       "      <th>inq.last.6mths</th>\n",
       "      <th>delinq.2yrs</th>\n",
       "      <th>pub.rec</th>\n",
       "      <th>not.fully.paid</th>\n",
       "      <th>purpose_credit_card</th>\n",
       "      <th>purpose_debt_consolidation</th>\n",
       "      <th>purpose_educational</th>\n",
       "      <th>purpose_home_improvement</th>\n",
       "      <th>purpose_major_purchase</th>\n",
       "      <th>purpose_small_business</th>\n",
       "    </tr>\n",
       "  </thead>\n",
       "  <tbody>\n",
       "    <tr>\n",
       "      <th>0</th>\n",
       "      <td>0</td>\n",
       "      <td>1</td>\n",
       "      <td>0.1189</td>\n",
       "      <td>829.10</td>\n",
       "      <td>11.350407</td>\n",
       "      <td>19.48</td>\n",
       "      <td>737</td>\n",
       "      <td>5639.958333</td>\n",
       "      <td>28854</td>\n",
       "      <td>52.1</td>\n",
       "      <td>0</td>\n",
       "      <td>0</td>\n",
       "      <td>0</td>\n",
       "      <td>0</td>\n",
       "      <td>0</td>\n",
       "      <td>1</td>\n",
       "      <td>0</td>\n",
       "      <td>0</td>\n",
       "      <td>0</td>\n",
       "      <td>0</td>\n",
       "    </tr>\n",
       "    <tr>\n",
       "      <th>1</th>\n",
       "      <td>1</td>\n",
       "      <td>1</td>\n",
       "      <td>0.1071</td>\n",
       "      <td>228.22</td>\n",
       "      <td>11.082143</td>\n",
       "      <td>14.29</td>\n",
       "      <td>707</td>\n",
       "      <td>2760.000000</td>\n",
       "      <td>33623</td>\n",
       "      <td>76.7</td>\n",
       "      <td>0</td>\n",
       "      <td>0</td>\n",
       "      <td>0</td>\n",
       "      <td>0</td>\n",
       "      <td>1</td>\n",
       "      <td>0</td>\n",
       "      <td>0</td>\n",
       "      <td>0</td>\n",
       "      <td>0</td>\n",
       "      <td>0</td>\n",
       "    </tr>\n",
       "    <tr>\n",
       "      <th>2</th>\n",
       "      <td>2</td>\n",
       "      <td>1</td>\n",
       "      <td>0.1357</td>\n",
       "      <td>366.86</td>\n",
       "      <td>10.373491</td>\n",
       "      <td>11.63</td>\n",
       "      <td>682</td>\n",
       "      <td>4710.000000</td>\n",
       "      <td>3511</td>\n",
       "      <td>25.6</td>\n",
       "      <td>1</td>\n",
       "      <td>0</td>\n",
       "      <td>0</td>\n",
       "      <td>0</td>\n",
       "      <td>0</td>\n",
       "      <td>1</td>\n",
       "      <td>0</td>\n",
       "      <td>0</td>\n",
       "      <td>0</td>\n",
       "      <td>0</td>\n",
       "    </tr>\n",
       "    <tr>\n",
       "      <th>3</th>\n",
       "      <td>3</td>\n",
       "      <td>1</td>\n",
       "      <td>0.1008</td>\n",
       "      <td>162.34</td>\n",
       "      <td>11.350407</td>\n",
       "      <td>8.10</td>\n",
       "      <td>712</td>\n",
       "      <td>2699.958333</td>\n",
       "      <td>33667</td>\n",
       "      <td>73.2</td>\n",
       "      <td>1</td>\n",
       "      <td>0</td>\n",
       "      <td>0</td>\n",
       "      <td>0</td>\n",
       "      <td>0</td>\n",
       "      <td>1</td>\n",
       "      <td>0</td>\n",
       "      <td>0</td>\n",
       "      <td>0</td>\n",
       "      <td>0</td>\n",
       "    </tr>\n",
       "    <tr>\n",
       "      <th>4</th>\n",
       "      <td>4</td>\n",
       "      <td>1</td>\n",
       "      <td>0.1426</td>\n",
       "      <td>102.92</td>\n",
       "      <td>11.299732</td>\n",
       "      <td>14.97</td>\n",
       "      <td>667</td>\n",
       "      <td>4066.000000</td>\n",
       "      <td>4740</td>\n",
       "      <td>39.5</td>\n",
       "      <td>0</td>\n",
       "      <td>1</td>\n",
       "      <td>0</td>\n",
       "      <td>0</td>\n",
       "      <td>1</td>\n",
       "      <td>0</td>\n",
       "      <td>0</td>\n",
       "      <td>0</td>\n",
       "      <td>0</td>\n",
       "      <td>0</td>\n",
       "    </tr>\n",
       "  </tbody>\n",
       "</table>\n",
       "</div>"
      ],
      "text/plain": [
       "   Unnamed: 0  credit.policy  int.rate  installment  log.annual.inc    dti  \\\n",
       "0           0              1    0.1189       829.10       11.350407  19.48   \n",
       "1           1              1    0.1071       228.22       11.082143  14.29   \n",
       "2           2              1    0.1357       366.86       10.373491  11.63   \n",
       "3           3              1    0.1008       162.34       11.350407   8.10   \n",
       "4           4              1    0.1426       102.92       11.299732  14.97   \n",
       "\n",
       "   fico  days.with.cr.line  revol.bal  revol.util  inq.last.6mths  \\\n",
       "0   737        5639.958333      28854        52.1               0   \n",
       "1   707        2760.000000      33623        76.7               0   \n",
       "2   682        4710.000000       3511        25.6               1   \n",
       "3   712        2699.958333      33667        73.2               1   \n",
       "4   667        4066.000000       4740        39.5               0   \n",
       "\n",
       "   delinq.2yrs  pub.rec  not.fully.paid  purpose_credit_card  \\\n",
       "0            0        0               0                    0   \n",
       "1            0        0               0                    1   \n",
       "2            0        0               0                    0   \n",
       "3            0        0               0                    0   \n",
       "4            1        0               0                    1   \n",
       "\n",
       "   purpose_debt_consolidation  purpose_educational  purpose_home_improvement  \\\n",
       "0                           1                    0                         0   \n",
       "1                           0                    0                         0   \n",
       "2                           1                    0                         0   \n",
       "3                           1                    0                         0   \n",
       "4                           0                    0                         0   \n",
       "\n",
       "   purpose_major_purchase  purpose_small_business  \n",
       "0                       0                       0  \n",
       "1                       0                       0  \n",
       "2                       0                       0  \n",
       "3                       0                       0  \n",
       "4                       0                       0  "
      ]
     },
     "execution_count": 6,
     "metadata": {},
     "output_type": "execute_result"
    }
   ],
   "source": [
    "df_final.head()"
   ]
  },
  {
   "cell_type": "code",
   "execution_count": 7,
   "id": "c3697809",
   "metadata": {},
   "outputs": [],
   "source": [
    "X = df_final.drop('not.fully.paid',axis=1)\n",
    "y = df_final['not.fully.paid']"
   ]
  },
  {
   "cell_type": "code",
   "execution_count": 8,
   "id": "e902a258",
   "metadata": {},
   "outputs": [],
   "source": [
    "from sklearn.model_selection import train_test_split\n",
    "\n",
    "X_train, X_test, y_train, y_test = train_test_split(X, y, test_size=0.30)"
   ]
  },
  {
   "cell_type": "markdown",
   "id": "4a775336",
   "metadata": {},
   "source": [
    "# Random Forest"
   ]
  },
  {
   "cell_type": "code",
   "execution_count": 14,
   "id": "220a9af1",
   "metadata": {},
   "outputs": [],
   "source": [
    "from sklearn.ensemble import RandomForestClassifier"
   ]
  },
  {
   "cell_type": "code",
   "execution_count": 15,
   "id": "751e4aa0",
   "metadata": {},
   "outputs": [],
   "source": [
    "rfc = RandomForestClassifier(n_estimators=600)"
   ]
  },
  {
   "cell_type": "code",
   "execution_count": 16,
   "id": "9426794f",
   "metadata": {},
   "outputs": [
    {
     "data": {
      "text/plain": [
       "RandomForestClassifier(n_estimators=600)"
      ]
     },
     "execution_count": 16,
     "metadata": {},
     "output_type": "execute_result"
    }
   ],
   "source": [
    "rfc.fit(X_train, y_train)"
   ]
  },
  {
   "cell_type": "code",
   "execution_count": null,
   "id": "6f81b1eb",
   "metadata": {},
   "outputs": [],
   "source": [
    "cm=confusion_matrix(y_test,predictions)\n",
    "print(cm)\n",
    "print (\"Accuracy of prediction:\",round((cm[0,0]+cm[1,1])/cm.sum(),3))"
   ]
  },
  {
   "cell_type": "markdown",
   "id": "6a723105",
   "metadata": {},
   "source": [
    "# DT"
   ]
  },
  {
   "cell_type": "code",
   "execution_count": 11,
   "id": "e9a9f181",
   "metadata": {},
   "outputs": [],
   "source": [
    "from sklearn.tree import DecisionTreeClassifier"
   ]
  },
  {
   "cell_type": "code",
   "execution_count": 12,
   "id": "7fbcbcca",
   "metadata": {},
   "outputs": [],
   "source": [
    "dtree = DecisionTreeClassifier()"
   ]
  },
  {
   "cell_type": "code",
   "execution_count": 13,
   "id": "8a7fc433",
   "metadata": {},
   "outputs": [
    {
     "data": {
      "text/plain": [
       "DecisionTreeClassifier()"
      ]
     },
     "execution_count": 13,
     "metadata": {},
     "output_type": "execute_result"
    }
   ],
   "source": [
    "dtree.fit(X_train,y_train)"
   ]
  },
  {
   "cell_type": "markdown",
   "id": "afa12df2",
   "metadata": {},
   "source": [
    "# AUC"
   ]
  },
  {
   "cell_type": "code",
   "execution_count": 20,
   "id": "20786c62",
   "metadata": {},
   "outputs": [],
   "source": [
    "import matplotlib.pyplot as plt"
   ]
  },
  {
   "cell_type": "code",
   "execution_count": 34,
   "id": "fa6a1e8c",
   "metadata": {},
   "outputs": [
    {
     "data": {
      "text/plain": [
       "array([0, 0, 0, ..., 0, 0, 0], dtype=int64)"
      ]
     },
     "execution_count": 34,
     "metadata": {},
     "output_type": "execute_result"
    }
   ],
   "source": [
    "rfc.predict(X_test)"
   ]
  },
  {
   "cell_type": "code",
   "execution_count": 33,
   "id": "a3ee006d",
   "metadata": {
    "scrolled": true
   },
   "outputs": [
    {
     "data": {
      "text/plain": [
       "array([[0.89      , 0.11      ],\n",
       "       [0.655     , 0.345     ],\n",
       "       [0.895     , 0.105     ],\n",
       "       ...,\n",
       "       [0.885     , 0.115     ],\n",
       "       [0.835     , 0.165     ],\n",
       "       [0.86166667, 0.13833333]])"
      ]
     },
     "execution_count": 33,
     "metadata": {},
     "output_type": "execute_result"
    }
   ],
   "source": [
    "probs = rfc.predict_proba(X_test)\n",
    "probs"
   ]
  },
  {
   "cell_type": "code",
   "execution_count": 35,
   "id": "a77eee06",
   "metadata": {},
   "outputs": [
    {
     "data": {
      "text/plain": [
       "array([0.11      , 0.345     , 0.105     , ..., 0.115     , 0.165     ,\n",
       "       0.13833333])"
      ]
     },
     "execution_count": 35,
     "metadata": {},
     "output_type": "execute_result"
    }
   ],
   "source": [
    "probs[:, 1]"
   ]
  },
  {
   "cell_type": "code",
   "execution_count": 36,
   "id": "11ac734e",
   "metadata": {},
   "outputs": [
    {
     "name": "stdout",
     "output_type": "stream",
     "text": [
      "AUC and ROC Test\n",
      "AUC: 0.547\n"
     ]
    },
    {
     "data": {
      "image/png": "[encoded data removed]",
      "text/plain": [
       "<Figure size 432x288 with 1 Axes>"
      ]
     },
     "metadata": {
      "needs_background": "light"
     },
     "output_type": "display_data"
    }
   ],
   "source": [
    "# predict probabilities\n",
    "print('AUC and ROC Test')\n",
    "probs = rfc.predict_proba(X_test)\n",
    "# keep probabilities for the positive outcome only\n",
    "probs = probs[:, 1]\n",
    "# calculate AUC\n",
    "from sklearn.metrics import roc_auc_score\n",
    "rfc_auc = roc_auc_score(y_test, probs)\n",
    "print('AUC: %.3f' % DT_auc)\n",
    "# calculate roc curve\n",
    "from sklearn.metrics import roc_curve\n",
    "rfc_test_fpr,rfc_test_tpr,thresholds = roc_curve(y_test, probs)\n",
    "plt.plot([0, 1], [0, 1], linestyle='--')\n",
    "# plot the roc curve for the model\n",
    "plt.plot(rfc_test_fpr,rfc_test_tpr, marker='*')\n",
    "# show the plot\n",
    "plt.show()"
   ]
  },
  {
   "cell_type": "code",
   "execution_count": 28,
   "id": "dc0c897d",
   "metadata": {},
   "outputs": [
    {
     "name": "stdout",
     "output_type": "stream",
     "text": [
      "AUC and ROC Test\n",
      "AUC: 0.547\n"
     ]
    },
    {
     "data": {
      "image/png": "[encoded data removed]",
      "text/plain": [
       "<Figure size 432x288 with 1 Axes>"
      ]
     },
     "metadata": {
      "needs_background": "light"
     },
     "output_type": "display_data"
    }
   ],
   "source": [
    "# predict probabilities\n",
    "print('AUC and ROC Test')\n",
    "probs = dtree.predict_proba(X_test)\n",
    "# keep probabilities for the positive outcome only\n",
    "probs = probs[:, 1]\n",
    "# calculate AUC\n",
    "from sklearn.metrics import roc_auc_score\n",
    "DT_auc = roc_auc_score(y_test, probs)\n",
    "print('AUC: %.3f' % DT_auc)\n",
    "# calculate roc curve\n",
    "from sklearn.metrics import roc_curve\n",
    "DT_test_fpr,DT_test_tpr,thresholds = roc_curve(y_test, probs)\n",
    "plt.plot([0, 1], [0, 1], linestyle='--')\n",
    "# plot the roc curve for the model\n",
    "plt.plot(DT_test_fpr,DT_test_tpr, marker='.')\n",
    "# show the plot\n",
    "plt.show()"
   ]
  },
  {
   "cell_type": "code",
   "execution_count": 30,
   "id": "372d2b25",
   "metadata": {},
   "outputs": [
    {
     "name": "stdout",
     "output_type": "stream",
     "text": [
      "AUC and ROC Test\n"
     ]
    },
    {
     "data": {
      "text/plain": [
       "<matplotlib.legend.Legend at 0x1e1567da970>"
      ]
     },
     "execution_count": 30,
     "metadata": {},
     "output_type": "execute_result"
    },
    {
     "data": {
      "image/png": "[encoded data removed]",
      "text/plain": [
       "<Figure size 432x288 with 1 Axes>"
      ]
     },
     "metadata": {
      "needs_background": "light"
     },
     "output_type": "display_data"
    }
   ],
   "source": [
    "print('AUC and ROC Test')\n",
    "plt.plot([0,1],[0,1],linestyle='--')\n",
    "plt.plot(rfc_test_fpr,rfc_test_tpr,color='red',label='RFC')\n",
    "plt.plot(DT_test_fpr,DT_test_tpr,color='blue',label='DT')\n",
    "plt.xlabel('False Positive Rate')\n",
    "plt.ylabel('True Positive Rate')\n",
    "plt.title('ROC')\n",
    "plt.legend(bbox_to_anchor=(0.,1.),loc='best')"
   ]
  }
 ],
 "metadata": {
  "kernelspec": {
   "display_name": "Python 3 (ipykernel)",
   "language": "python",
   "name": "python3"
  },
  "language_info": {
   "codemirror_mode": {
    "name": "ipython",
    "version": 3
   },
   "file_extension": ".py",
   "mimetype": "text/x-python",
   "name": "python",
   "nbconvert_exporter": "python",
   "pygments_lexer": "ipython3",
   "version": "3.9.12"
  }
 },
 "nbformat": 4,
 "nbformat_minor": 5
}
